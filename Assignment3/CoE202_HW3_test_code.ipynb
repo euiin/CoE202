{
  "nbformat": 4,
  "nbformat_minor": 0,
  "metadata": {
    "colab": {
      "name": "CoE202_HW3_test_code.ipynb",
      "provenance": [],
      "collapsed_sections": []
    },
    "kernelspec": {
      "name": "python3",
      "display_name": "Python 3"
    },
    "accelerator": "GPU"
  },
  "cells": [
    {
      "cell_type": "markdown",
      "metadata": {
        "id": "SoKkiIcB_px8"
      },
      "source": [
        "# [CoE202] **[Homework3]** CNN Classification for CIFAR10 (Pytorch)\n",
        "\n",
        "## **Testing Script**"
      ]
    },
    {
      "cell_type": "markdown",
      "metadata": {
        "id": "08u5Tk07K_Sl"
      },
      "source": [
        "In this section, you are going to **test** CNN classification for CIFAR10 in the Pytorch framework.\n"
      ]
    },
    {
      "cell_type": "markdown",
      "metadata": {
        "id": "P8J_DzmZ_lcW"
      },
      "source": [
        "## 0. Import Library"
      ]
    },
    {
      "cell_type": "code",
      "metadata": {
        "id": "_IVS1uyEQgM4",
        "colab": {
          "base_uri": "https://localhost:8080/"
        },
        "outputId": "395437e8-8830-4fef-d7ea-62c4c22c85cd"
      },
      "source": [
        "import numpy as np\n",
        "import matplotlib.pyplot as plt # this is for importing matplotlib.pyplot (library for graph plot)\n",
        "import torch\n",
        "import torch.nn as nn\n",
        "import torchvision\n",
        "import torch.nn.functional as F\n",
        "import torchvision.transforms as transforms\n",
        "\n",
        "from google.colab import files\n",
        "from google.colab import drive\n",
        "drive.mount('/content/gdrive')"
      ],
      "execution_count": 1,
      "outputs": [
        {
          "output_type": "stream",
          "text": [
            "Mounted at /content/gdrive\n"
          ],
          "name": "stdout"
        }
      ]
    },
    {
      "cell_type": "markdown",
      "metadata": {
        "id": "un-9UtK5AVAh"
      },
      "source": [
        "##1. Define your model to load weights, and define your transfomation in Dataloader"
      ]
    },
    {
      "cell_type": "code",
      "metadata": {
        "id": "VY0kESb0WEkq"
      },
      "source": [
        "#You can only change this cell\n",
        "\n",
        "#define your model\n",
        "class CIFAR_Net(nn.Module): \n",
        "    def __init__(self):\n",
        "        super(CIFAR_Net, self).__init__()\n",
        "        # an affine operation: y = Wx + b\n",
        "        self.conv1 = nn.Conv2d(3,32,3,1)       #nn.Conv2d(in_channels, out_channels, kernel_size, stride)\n",
        "        self.conv2 = nn.Conv2d(32,64,3,1) \n",
        "        self.conv3 = nn.Conv2d(64,128,3,1)      \n",
        "        #self.conv4 = nn.Conv2d(128,128,3,1)  \n",
        "        self.fc1 = nn.Linear(4608,1000)         #nn.Linear(in_features, out_features)\n",
        "        self.fc2 = nn.Linear(1000,200) \n",
        "        self.fc3 = nn.Linear(200,10)  \n",
        "        self.bat1 = nn.BatchNorm2d(32)\n",
        "        self.bat2 = nn.BatchNorm2d(64)\n",
        "        self.bat3 = nn.BatchNorm2d(128)\n",
        "        self.dropout = nn.Dropout(p=0.5, inplace=False)\n",
        "        self.maxpool = nn.MaxPool2d(2,2)  #nn.MaxPool2d(kernel_size, stride)\n",
        "        self.relu = nn.ReLU()\n",
        "\n",
        "    def forward(self, x):\n",
        "        # size of input is 3 x 32 x 32\n",
        "        x = self.conv1(x) # conv1\n",
        "        x = self.bat1(x)\n",
        "        x = self.relu(x) # relu\n",
        "        #x = self.dropout(x)\n",
        "        x = self.conv2(x) # conv2\n",
        "        x = self.bat2(x)\n",
        "        x = self.relu(x) # relu\n",
        "       # x = self.dropout(x)\n",
        "        x = self.maxpool(x) # maxpool  \n",
        "        x = self.conv3(x) # conv2\n",
        "        x = self.bat3(x)\n",
        "        x = self.relu(x) # relu\n",
        "        #x = self.dropout(x)\n",
        "        #x = self.conv4(x) # conv4\n",
        "        ##x = self.bat3(x)\n",
        "        #x = self.relu(x) # relu\n",
        "        #x = self.dropout(x)\n",
        "        x = self.maxpool(x) # maxpool   \n",
        "\n",
        "        x = x.view(-1, 4608)  # view=flatten (what is the size of x at this point?)\n",
        "\n",
        "        x = self.fc1(x) # fc1\n",
        "        x = self.relu(x) # relu\n",
        "        x = self.fc2(x) # fc2\n",
        "        x = self.relu(x) # relu\n",
        "        x = self.fc3(x) # fc3\n",
        "        return x\n",
        "\n",
        "#define your transformation on input image, groundtruth\n",
        "transform = transforms.Compose([\n",
        "    transforms.ToTensor(),\n",
        "])\n",
        "target_transform = None\n"
      ],
      "execution_count": 5,
      "outputs": []
    },
    {
      "cell_type": "markdown",
      "metadata": {
        "id": "8q5pWTDRASSc"
      },
      "source": [
        "## 2. Load test dataset"
      ]
    },
    {
      "cell_type": "code",
      "metadata": {
        "id": "4Hrzh5QwRPnB",
        "colab": {
          "base_uri": "https://localhost:8080/"
        },
        "outputId": "50eba189-ce15-4aee-de0f-8115316409a0"
      },
      "source": [
        "test_dataset = torchvision.datasets.CIFAR10(\"../cifar10_data/\",\n",
        "                                              download=True,\n",
        "                                              train=False,\n",
        "                                              transform=transform,\n",
        "                                              target_transform=target_transform)\n",
        "\n",
        "\n",
        "test_loader = torch.utils.data.DataLoader(test_dataset, batch_size = 100, shuffle=False, drop_last = True)\n",
        "\n"
      ],
      "execution_count": 6,
      "outputs": [
        {
          "output_type": "stream",
          "text": [
            "Files already downloaded and verified\n"
          ],
          "name": "stdout"
        }
      ]
    },
    {
      "cell_type": "markdown",
      "metadata": {
        "id": "tw4ICos_AaES"
      },
      "source": [
        "##3. Load your model weights"
      ]
    },
    {
      "cell_type": "code",
      "metadata": {
        "id": "H2GYV-wdRlfo",
        "colab": {
          "base_uri": "https://localhost:8080/"
        },
        "outputId": "d1dbd106-2758-40e4-c0a1-0beb2bf1ab0f"
      },
      "source": [
        "model_save_name = 'checkpoint.pth'\n",
        "path = F\"/content/gdrive/My Drive/{model_save_name}\" \n",
        "model = CIFAR_Net()\n",
        "model.load_state_dict(torch.load(path))\n",
        "model.cuda()\n",
        "model.eval()"
      ],
      "execution_count": 7,
      "outputs": [
        {
          "output_type": "execute_result",
          "data": {
            "text/plain": [
              "CIFAR_Net(\n",
              "  (conv1): Conv2d(3, 32, kernel_size=(3, 3), stride=(1, 1))\n",
              "  (conv2): Conv2d(32, 64, kernel_size=(3, 3), stride=(1, 1))\n",
              "  (conv3): Conv2d(64, 128, kernel_size=(3, 3), stride=(1, 1))\n",
              "  (fc1): Linear(in_features=4608, out_features=1000, bias=True)\n",
              "  (fc2): Linear(in_features=1000, out_features=200, bias=True)\n",
              "  (fc3): Linear(in_features=200, out_features=10, bias=True)\n",
              "  (bat1): BatchNorm2d(32, eps=1e-05, momentum=0.1, affine=True, track_running_stats=True)\n",
              "  (bat2): BatchNorm2d(64, eps=1e-05, momentum=0.1, affine=True, track_running_stats=True)\n",
              "  (bat3): BatchNorm2d(128, eps=1e-05, momentum=0.1, affine=True, track_running_stats=True)\n",
              "  (dropout): Dropout(p=0.5, inplace=False)\n",
              "  (maxpool): MaxPool2d(kernel_size=2, stride=2, padding=0, dilation=1, ceil_mode=False)\n",
              "  (relu): ReLU()\n",
              ")"
            ]
          },
          "metadata": {
            "tags": []
          },
          "execution_count": 7
        }
      ]
    },
    {
      "cell_type": "markdown",
      "metadata": {
        "id": "j9cgPO2xAdSn"
      },
      "source": [
        "##4. Check model accuracy"
      ]
    },
    {
      "cell_type": "code",
      "metadata": {
        "id": "1VJZLif_-usA"
      },
      "source": [
        "def thresholding(prediction):\n",
        "    \"\"\"Find label which shows highest prediction value.\n",
        "    \n",
        "    Args:\n",
        "        prediction (torch.tensor) : prediction tensor. Dimension of [Batch size, 10]\n",
        "    \n",
        "    Returns:\n",
        "        pred_label (torch.tensor) : Index which shows maximum prediction value. Dimension of [Batch size]\n",
        "    \"\"\"\n",
        "    _, pred_label = torch.max(prediction, 1)\n",
        "    return pred_label"
      ],
      "execution_count": 8,
      "outputs": []
    },
    {
      "cell_type": "code",
      "metadata": {
        "id": "uMP4W2mimrMV",
        "colab": {
          "base_uri": "https://localhost:8080/"
        },
        "outputId": "17792da5-18a9-4def-9b14-ea572e8544a2"
      },
      "source": [
        "model.eval()\n",
        "total_cnt, correct_cnt = 0.0, 0.0\n",
        "for batch_idx, (x, target) in enumerate(test_loader):\n",
        "    with torch.no_grad():\n",
        "      x, target = x.cuda(), target.cuda()\n",
        "      prediction = model(x)\n",
        "      total_cnt += x.data.size(0)\n",
        "      correct_cnt += (thresholding(prediction) == target.data).sum().item()\n",
        "\n",
        "print(f\"Test Accuracy = {100*correct_cnt/total_cnt}%\")"
      ],
      "execution_count": 9,
      "outputs": [
        {
          "output_type": "stream",
          "text": [
            "Test Accuracy = 81.81%\n"
          ],
          "name": "stdout"
        }
      ]
    }
  ]
}